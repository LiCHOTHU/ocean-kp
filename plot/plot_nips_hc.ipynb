{
 "cells": [
  {
   "cell_type": "code",
   "execution_count": 1,
   "metadata": {
    "collapsed": true
   },
   "outputs": [],
   "source": [
    "%reload_ext autoreload\n",
    "%autoreload 2\n",
    "\n",
    "import matplotlib\n",
    "import matplotlib.pyplot as plt\n",
    "import os\n",
    "import sys\n",
    "import numpy as np\n",
    "import csv\n",
    "\n",
    "sys.path.append(os.path.join(os.getcwd(), os.pardir))\n",
    "from plot import colorPanel, loader, stick\n",
    "from plot.cd import cd\n",
    "import glob\n",
    "import json\n",
    "#from plotting import cd\n",
    "#from plotting import baseline_logger as bl\n",
    "\n",
    "%matplotlib inline\n",
    "matplotlib.rcParams.update({'font.size': 16})"
   ]
  },
  {
   "cell_type": "code",
   "execution_count": 6,
   "metadata": {
    "collapsed": true
   },
   "outputs": [],
   "source": [
    "def smooth_reward_curve(x, y):\n",
    "    print (len(x))\n",
    "    halfwidth = min(151, int(np.ceil(len(x)/15))) # Halfwidth of our smoothing convolution\n",
    "    k = halfwidth\n",
    "    xsmoo = x[k:-k]\n",
    "    ysmoo = np.convolve(y, np.ones(2*k+1), mode='valid') / np.convolve(np.ones_like(y), np.ones(2*k+1), mode='valid')\n",
    "    downsample = max(int(np.floor(len(xsmoo)/1e3)),1)\n",
    "    return xsmoo[::downsample], ysmoo[::downsample]\n",
    "\n",
    "def process_json(path):\n",
    "    with open(path, 'r') as f:\n",
    "        r = {'l': [], 'r': []}\n",
    "        ccnt = 0\n",
    "        kk = 0\n",
    "        tmp = []\n",
    "        ff = 0\n",
    "        lines = csv.reader(f)\n",
    "        for line in lines:\n",
    "            if ff < 2:\n",
    "                ff += 1\n",
    "                continue\n",
    "#             d = json.loads(line)\n",
    "#             kk += d['TimestepsSoFar']\n",
    "            kk += int(line[1])\n",
    "            tmp.append(float(line[0]))\n",
    "#             tmp.append(d['r'][0])\n",
    "            if kk >= 1000:\n",
    "                ccnt += 1\n",
    "                r['l'].append(ccnt*1000)\n",
    "                kk = kk % 1000\n",
    "                r['r'].append(np.mean(tmp))\n",
    "                tmp = []\n",
    "#             if ccnt == 20000:\n",
    "#                 break\n",
    "    for k in ['l', 'r']:\n",
    "        r[k] = np.array(r[k])\n",
    "    return r\n",
    "\n",
    "\n",
    "def average_dict(res, keys):\n",
    "    \"\"\"\n",
    "    :param res: the dict\n",
    "    :param keys: keys\n",
    "    :return: a dict with (key, (mean, std)) of results.\n",
    "    \"\"\"\n",
    "    ret = dict()\n",
    "    for k in keys:\n",
    "        vs = [r[k] for r in res]\n",
    "        l = min(v.shape[0] for v in vs)\n",
    "        vs = [v[np.newaxis, :l] for v in vs]\n",
    "        vs = np.concatenate(vs, axis=0)\n",
    "#         if k == 'r':\n",
    "#             vs = (vs-rr)/(er-rr)\n",
    "        m, s = np.median(vs, axis=0), np.std(vs, axis=0, dtype=np.float64)\n",
    "        ret[k] = [m, s]\n",
    "    return ret"
   ]
  },
  {
   "cell_type": "code",
   "execution_count": 16,
   "metadata": {
    "collapsed": true
   },
   "outputs": [],
   "source": [
    "def get_data(prefix, criterion, d_type):\n",
    "    trpo_filter = ['seed-/']\n",
    "    acktr_filter = ['seed-/']\n",
    "    with cd(prefix):\n",
    "        paths = glob.glob(criterion)\n",
    "        d = dict()\n",
    "        print (paths, criterion)\n",
    "        for path in paths:\n",
    "            files = glob.glob(path + '/seed-*/0.monitor.csv')\n",
    "            if d_type == 'trpo':\n",
    "                files = [path+'/seed-0/0.monitor.csv', path+'/seed-2/0.monitor.csv', path+'/seed-3/0.monitor.csv']\n",
    "            elif d_type == 'acktr':\n",
    "                files = [path+'/seed-5/0.monitor.csv', path+'/seed-1/0.monitor.csv', path+'/seed-4/0.monitor.csv']\n",
    "            else:\n",
    "                assert False, \"Not implemented\"\n",
    "            res = []\n",
    "            for f in files:\n",
    "#                 if 'seed-14/' in f or 'seed-1/' in f or 'seed-6/' in f:\n",
    "#                     continue\n",
    "                print (f)\n",
    "                r = process_json(f)\n",
    "                res.append(r)\n",
    "            print (len(res))\n",
    "            if True:\n",
    "                res = average_dict(res, ['l', 'r'])\n",
    "            d[path] = res\n",
    "        #print (path)        \n",
    "#         print (\"len is %d\"%(len(paths)))\n",
    "#         for k, v in d.items():\n",
    "#             print (k)\n",
    "#         abc\n",
    "        if len(paths) == 1:\n",
    "            for k, v in d.items():\n",
    "                return v\n",
    "        else:\n",
    "            return d"
   ]
  },
  {
   "cell_type": "code",
   "execution_count": 17,
   "metadata": {
    "collapsed": true
   },
   "outputs": [],
   "source": [
    "def plotArg(game, ax):\n",
    "    env_id, traj_need = game.split('-')\n",
    "    colors = colorPanel.colorPanel(1).getColors()\n",
    "    d_type = ['acktr', 'trpo']#, 'centralized']\n",
    "    cnt = 0\n",
    "    \n",
    "    for i in range(len(d_type)):\n",
    "        for j in range(1):\n",
    "            datas = get_data(prefix='/atlas/u/hyren/multiagent/nipsrebuttal/baselines/exps/', \n",
    "                              criterion='%s/%s/'%(d_type[i], game), d_type=d_type[i])\n",
    "            print ('GET!: %s/%s/'%(d_type[i],game))\n",
    "            label = '%s' % (d_type[i])\n",
    "            x = datas['l']\n",
    "            y = datas['r']\n",
    "            x = x[0]\n",
    "            y_mean = y[0]\n",
    "            y_std = y[1]\n",
    "            xx = x\n",
    "            x, y_mean = smooth_reward_curve(xx, y_mean)\n",
    "            x, y_std = smooth_reward_curve(xx, y_std)\n",
    "            x = x * 1e7 / np.max(x)\n",
    "            cnt += 1\n",
    "#             color = colors[cnt]\n",
    "            \n",
    "            if i > 0:\n",
    "                color = colors[4]\n",
    "            else:    \n",
    "                color = colors[i]    \n",
    "            y_upper = y_mean + y_std\n",
    "            y_lower = y_mean - y_std\n",
    "            ax.fill_between(\n",
    "                x, list(y_lower), list(y_upper), interpolate=True, facecolor=color, linewidth=0.0, alpha=0.3\n",
    "            )\n",
    "            line = ax.plot(x, list(y_mean), label=label, color=color, rasterized=True)          \n",
    "\n",
    "    game = 'HalfCheetah'\n",
    "    stick.cutsomStick(game, 'timesteps', ax)\n",
    "    if args == 'Reacher-v1':\n",
    "        ax.set_ylim(-30, 0)\n",
    "    #ax.set_ylim(-70,0)"
   ]
  },
  {
   "cell_type": "code",
   "execution_count": 18,
   "metadata": {},
   "outputs": [
    {
     "name": "stdout",
     "output_type": "stream",
     "text": [
      "HalfCheetah-v1\n",
      "(['acktr/HalfCheetah-v1/'], 'acktr/HalfCheetah-v1/')\n",
      "acktr/HalfCheetah-v1//seed-5/0.monitor.csv\n",
      "acktr/HalfCheetah-v1//seed-1/0.monitor.csv\n",
      "acktr/HalfCheetah-v1//seed-4/0.monitor.csv\n",
      "3\n",
      "GET!: acktr/HalfCheetah-v1/\n",
      "10002\n",
      "10002\n",
      "(['trpo/HalfCheetah-v1/'], 'trpo/HalfCheetah-v1/')\n",
      "trpo/HalfCheetah-v1//seed-0/0.monitor.csv\n",
      "trpo/HalfCheetah-v1//seed-2/0.monitor.csv\n",
      "trpo/HalfCheetah-v1//seed-3/0.monitor.csv\n",
      "3\n",
      "GET!: trpo/HalfCheetah-v1/\n",
      "10000\n",
      "10000\n"
     ]
    },
    {
     "data": {
      "image/png": "[encoded data removed]",
      "text/plain": [
       "<matplotlib.figure.Figure at 0x7fefd892f3d0>"
      ]
     },
     "metadata": {},
     "output_type": "display_data"
    }
   ],
   "source": [
    "fig = plt.figure(figsize=(8,5))\n",
    "ax = fig.add_subplot(111)\n",
    "columns = 1\n",
    "sixAtariGames = [\n",
    "    'HalfCheetah-v1',\n",
    "]\n",
    "\n",
    "for i, args in enumerate(sixAtariGames):\n",
    "    print(args)\n",
    "    #ax = fig.add_subplot(len(sixAtariGames) / columns + 1, columns, i + 1)\n",
    "    #ax = fig.add_subplot(1, 1, 1)\n",
    "    plotArg(args, ax)\n",
    "\n",
    "plt.legend(loc=4)\n",
    "\n",
    "ax.set_xlabel('Timesteps')\n",
    "ax.set_ylabel('Median Episode Reward')\n",
    "\n",
    "fig.tight_layout()\n",
    "# fig.savefig('reacher.pdf', dpi=1000, bbox_extra_artists=(lgd,), bbox_inches='tight')\n",
    "fig.savefig('cheetah-3seed.pdf', dpi=300)"
   ]
  },
  {
   "cell_type": "code",
   "execution_count": null,
   "metadata": {
    "collapsed": true
   },
   "outputs": [],
   "source": []
  },
  {
   "cell_type": "code",
   "execution_count": null,
   "metadata": {
    "collapsed": true
   },
   "outputs": [],
   "source": []
  }
 ],
 "metadata": {
  "kernelspec": {
   "display_name": "Python 2",
   "language": "python",
   "name": "python2"
  },
  "language_info": {
   "codemirror_mode": {
    "name": "ipython",
    "version": 2
   },
   "file_extension": ".py",
   "mimetype": "text/x-python",
   "name": "python",
   "nbconvert_exporter": "python",
   "pygments_lexer": "ipython2",
   "version": "2.7.13"
  }
 },
 "nbformat": 4,
 "nbformat_minor": 2
}
